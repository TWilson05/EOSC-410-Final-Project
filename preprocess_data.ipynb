{
 "cells": [
  {
   "cell_type": "code",
   "execution_count": 32,
   "metadata": {},
   "outputs": [],
   "source": [
    "import numpy as np\n",
    "import pandas as pd"
   ]
  },
  {
   "cell_type": "code",
   "execution_count": 30,
   "metadata": {},
   "outputs": [],
   "source": [
    "# max and min locations for streams\n",
    "max_lat = 61.56044\n",
    "min_lat = 48.57835\n",
    "max_lon = -114.53583\n",
    "min_lon = -137.97775"
   ]
  },
  {
   "cell_type": "code",
   "execution_count": 2,
   "metadata": {},
   "outputs": [
    {
     "name": "stdout",
     "output_type": "stream",
     "text": [
      "<class 'netCDF4._netCDF4.Dataset'>\n",
      "root group (NETCDF4 data model, file format HDF5):\n",
      "    title: WATCH Forcing Data methodology applied to ERA5 data\n",
      "    institution: Copernicus Climate Change Service\n",
      "    contact: http://copernicus-support.ecmwf.int\n",
      "    comment: Methodology implementation for ERA5 and dataset production by B-Open Solutions for the Copernicus Climate Change Service in the context of contract C3S_25c\n",
      "    Conventions: CF-1.7\n",
      "    summary: ERA5 data regridded to half degree regular lat-lon; Genuine land points from CRU grid and ERA5 land-sea mask only; Rainf bias-corrected using CRU TS4.04 wet days & CRU TS4.04 precip totals, catch correction, and precip phase correction according to elevation and bias-corrected Tair\n",
      "    reference: Cucchi et al., 2020, Earth Syst. Sci. Data, 12(3), 2097–2120, doi:10.5194/essd-12-2097-2020; Weedon et al., 2014, Water Resources Res., 50, 7505-7514, doi:10.1002/2014WR015638; Harris et al., 2020, Scientific Data, 7(1), doi:10.1038/s41597-020-0453-3\n",
      "    licence: The dataset is distributed under the Licence to Use Copernicus Products. The corrections applied are based upon CRU TS4.04, distributed under the Open Government Licence (OGL), and GPCCv2020, distributed under the Creative Commons Attribution 4.0 International Licence (CC BY 4.0)\n",
      "    dimensions(sizes): lat(360), lon(720), time(744)\n",
      "    variables(dimensions): float64 lat(lat), float64 lon(lon), int64 time(time), float32 Rainf(time, lat, lon)\n",
      "    groups: \n"
     ]
    }
   ],
   "source": [
    "# %pip install netCDF4\n",
    "from netCDF4 import Dataset\n",
    "\n",
    "# Define the path to the file\n",
    "data_dir = 'data/'\n",
    "file_path = data_dir + 'Rainf_WFDE5_CRU_201101_v2.1.nc'\n",
    "\n",
    "# Load the data\n",
    "test_data = Dataset(file_path)\n",
    "\n",
    "# Display the data\n",
    "print(test_data)"
   ]
  },
  {
   "cell_type": "code",
   "execution_count": null,
   "metadata": {},
   "outputs": [
    {
     "data": {
      "text/plain": [
       "dict_keys(['lat', 'lon', 'time', 'Rainf'])"
      ]
     },
     "execution_count": 4,
     "metadata": {},
     "output_type": "execute_result"
    }
   ],
   "source": [
    "test_data.variables.keys()"
   ]
  },
  {
   "cell_type": "code",
   "execution_count": 10,
   "metadata": {},
   "outputs": [
    {
     "data": {
      "text/plain": [
       "masked_array(data=[-89.75, -89.25, -88.75, -88.25, -87.75, -87.25, -86.75,\n",
       "                   -86.25, -85.75, -85.25, -84.75, -84.25, -83.75, -83.25,\n",
       "                   -82.75, -82.25, -81.75, -81.25, -80.75, -80.25, -79.75,\n",
       "                   -79.25, -78.75, -78.25, -77.75, -77.25, -76.75, -76.25,\n",
       "                   -75.75, -75.25, -74.75, -74.25, -73.75, -73.25, -72.75,\n",
       "                   -72.25, -71.75, -71.25, -70.75, -70.25, -69.75, -69.25,\n",
       "                   -68.75, -68.25, -67.75, -67.25, -66.75, -66.25, -65.75,\n",
       "                   -65.25, -64.75, -64.25, -63.75, -63.25, -62.75, -62.25,\n",
       "                   -61.75, -61.25, -60.75, -60.25, -59.75, -59.25, -58.75,\n",
       "                   -58.25, -57.75, -57.25, -56.75, -56.25, -55.75, -55.25,\n",
       "                   -54.75, -54.25, -53.75, -53.25, -52.75, -52.25, -51.75,\n",
       "                   -51.25, -50.75, -50.25, -49.75, -49.25, -48.75, -48.25,\n",
       "                   -47.75, -47.25, -46.75, -46.25, -45.75, -45.25, -44.75,\n",
       "                   -44.25, -43.75, -43.25, -42.75, -42.25, -41.75, -41.25,\n",
       "                   -40.75, -40.25, -39.75, -39.25, -38.75, -38.25, -37.75,\n",
       "                   -37.25, -36.75, -36.25, -35.75, -35.25, -34.75, -34.25,\n",
       "                   -33.75, -33.25, -32.75, -32.25, -31.75, -31.25, -30.75,\n",
       "                   -30.25, -29.75, -29.25, -28.75, -28.25, -27.75, -27.25,\n",
       "                   -26.75, -26.25, -25.75, -25.25, -24.75, -24.25, -23.75,\n",
       "                   -23.25, -22.75, -22.25, -21.75, -21.25, -20.75, -20.25,\n",
       "                   -19.75, -19.25, -18.75, -18.25, -17.75, -17.25, -16.75,\n",
       "                   -16.25, -15.75, -15.25, -14.75, -14.25, -13.75, -13.25,\n",
       "                   -12.75, -12.25, -11.75, -11.25, -10.75, -10.25,  -9.75,\n",
       "                    -9.25,  -8.75,  -8.25,  -7.75,  -7.25,  -6.75,  -6.25,\n",
       "                    -5.75,  -5.25,  -4.75,  -4.25,  -3.75,  -3.25,  -2.75,\n",
       "                    -2.25,  -1.75,  -1.25,  -0.75,  -0.25,   0.25,   0.75,\n",
       "                     1.25,   1.75,   2.25,   2.75,   3.25,   3.75,   4.25,\n",
       "                     4.75,   5.25,   5.75,   6.25,   6.75,   7.25,   7.75,\n",
       "                     8.25,   8.75,   9.25,   9.75,  10.25,  10.75,  11.25,\n",
       "                    11.75,  12.25,  12.75,  13.25,  13.75,  14.25,  14.75,\n",
       "                    15.25,  15.75,  16.25,  16.75,  17.25,  17.75,  18.25,\n",
       "                    18.75,  19.25,  19.75,  20.25,  20.75,  21.25,  21.75,\n",
       "                    22.25,  22.75,  23.25,  23.75,  24.25,  24.75,  25.25,\n",
       "                    25.75,  26.25,  26.75,  27.25,  27.75,  28.25,  28.75,\n",
       "                    29.25,  29.75,  30.25,  30.75,  31.25,  31.75,  32.25,\n",
       "                    32.75,  33.25,  33.75,  34.25,  34.75,  35.25,  35.75,\n",
       "                    36.25,  36.75,  37.25,  37.75,  38.25,  38.75,  39.25,\n",
       "                    39.75,  40.25,  40.75,  41.25,  41.75,  42.25,  42.75,\n",
       "                    43.25,  43.75,  44.25,  44.75,  45.25,  45.75,  46.25,\n",
       "                    46.75,  47.25,  47.75,  48.25,  48.75,  49.25,  49.75,\n",
       "                    50.25,  50.75,  51.25,  51.75,  52.25,  52.75,  53.25,\n",
       "                    53.75,  54.25,  54.75,  55.25,  55.75,  56.25,  56.75,\n",
       "                    57.25,  57.75,  58.25,  58.75,  59.25,  59.75,  60.25,\n",
       "                    60.75,  61.25,  61.75,  62.25,  62.75,  63.25,  63.75,\n",
       "                    64.25,  64.75,  65.25,  65.75,  66.25,  66.75,  67.25,\n",
       "                    67.75,  68.25,  68.75,  69.25,  69.75,  70.25,  70.75,\n",
       "                    71.25,  71.75,  72.25,  72.75,  73.25,  73.75,  74.25,\n",
       "                    74.75,  75.25,  75.75,  76.25,  76.75,  77.25,  77.75,\n",
       "                    78.25,  78.75,  79.25,  79.75,  80.25,  80.75,  81.25,\n",
       "                    81.75,  82.25,  82.75,  83.25,  83.75,  84.25,  84.75,\n",
       "                    85.25,  85.75,  86.25,  86.75,  87.25,  87.75,  88.25,\n",
       "                    88.75,  89.25,  89.75],\n",
       "             mask=False,\n",
       "       fill_value=1e+20)"
      ]
     },
     "execution_count": 10,
     "metadata": {},
     "output_type": "execute_result"
    }
   ],
   "source": [
    "test_data.variables['lat'][:]"
   ]
  },
  {
   "cell_type": "code",
   "execution_count": 25,
   "metadata": {},
   "outputs": [
    {
     "data": {
      "text/plain": [
       "<class 'netCDF4._netCDF4.Variable'>\n",
       "int64 time(time)\n",
       "    standard_name: time\n",
       "    long_name: Time\n",
       "    axis: T\n",
       "    units: hours since 1900-01-01\n",
       "    calendar: proleptic_gregorian\n",
       "unlimited dimensions: \n",
       "current shape = (744,)\n",
       "filling on, default _FillValue of -9223372036854775806 used"
      ]
     },
     "execution_count": 25,
     "metadata": {},
     "output_type": "execute_result"
    }
   ],
   "source": [
    "test_data.variables['time']"
   ]
  },
  {
   "cell_type": "code",
   "execution_count": 29,
   "metadata": {},
   "outputs": [
    {
     "data": {
      "text/plain": [
       "<class 'netCDF4._netCDF4.Variable'>\n",
       "float32 Rainf(time, lat, lon)\n",
       "    _FillValue: 1e+20\n",
       "    units: kg m-2 s-1\n",
       "    long_name: Rainfall Flux\n",
       "    standard_name: rainfall_flux\n",
       "unlimited dimensions: \n",
       "current shape = (744, 360, 720)\n",
       "filling on"
      ]
     },
     "execution_count": 29,
     "metadata": {},
     "output_type": "execute_result"
    }
   ],
   "source": [
    "test_data.variables['Rainf']"
   ]
  },
  {
   "cell_type": "code",
   "execution_count": 20,
   "metadata": {},
   "outputs": [],
   "source": [
    "test_time = test_data.variables['time'][:][0]"
   ]
  },
  {
   "cell_type": "code",
   "execution_count": null,
   "metadata": {},
   "outputs": [
    {
     "name": "stdout",
     "output_type": "stream",
     "text": [
      "1970-01-11 22:16:48\n"
     ]
    }
   ],
   "source": [
    "import datetime\n",
    "# convert from hours since 1900-01-01 00:00:00 to a human-readable date\n",
    "print(datetime.datetime.fromtimestamp(test_time))"
   ]
  },
  {
   "cell_type": "code",
   "execution_count": 17,
   "metadata": {},
   "outputs": [
    {
     "data": {
      "text/plain": [
       "108"
      ]
     },
     "execution_count": 17,
     "metadata": {},
     "output_type": "execute_result"
    }
   ],
   "source": [
    "# get only v2.1 data\n",
    "\n",
    "# collect all the files\n",
    "import os\n",
    "files = os.listdir(data_dir)\n",
    "filtered_files = []\n",
    "\n",
    "# filter out the v2.1 files\n",
    "for file in files:\n",
    "    version = file.split('_')[-1]\n",
    "    if version == 'v2.1.nc':\n",
    "        filtered_files.append(file)\n",
    "\n",
    "len(filtered_files)"
   ]
  },
  {
   "cell_type": "code",
   "execution_count": null,
   "metadata": {},
   "outputs": [
    {
     "name": "stdout",
     "output_type": "stream",
     "text": [
      "(744, 360, 720)\n",
      "(744, 360, 720)\n",
      "(672, 360, 720)\n",
      "(1416, 360, 720)\n",
      "(744, 360, 720)\n",
      "(2160, 360, 720)\n"
     ]
    },
    {
     "data": {
      "text/plain": [
       "(2160, 360, 720)"
      ]
     },
     "execution_count": 49,
     "metadata": {},
     "output_type": "execute_result"
    }
   ],
   "source": [
    "# Initialize time and rainfall arrays\n",
    "times = np.array([])\n",
    "rainfall = None  # Start with None, initialize after first file\n",
    "\n",
    "for file in filtered_files[:3]:\n",
    "    data = Dataset(data_dir + file)\n",
    "\n",
    "    # Append times\n",
    "    times = np.append(times, data.variables['time'][:])\n",
    "\n",
    "    # Initialize rainfall array if it's the first file\n",
    "    if rainfall is None:\n",
    "        rainfall = data.variables['Rainf'][:]\n",
    "    else:\n",
    "        # Concatenate along the first axis\n",
    "        rainfall = np.concatenate((rainfall, data.variables['Rainf'][:]), axis=0)\n",
    "\n",
    "rainfall.shape\n"
   ]
  }
 ],
 "metadata": {
  "kernelspec": {
   "display_name": "Python 3",
   "language": "python",
   "name": "python3"
  },
  "language_info": {
   "codemirror_mode": {
    "name": "ipython",
    "version": 3
   },
   "file_extension": ".py",
   "mimetype": "text/x-python",
   "name": "python",
   "nbconvert_exporter": "python",
   "pygments_lexer": "ipython3",
   "version": "3.10.11"
  }
 },
 "nbformat": 4,
 "nbformat_minor": 2
}
