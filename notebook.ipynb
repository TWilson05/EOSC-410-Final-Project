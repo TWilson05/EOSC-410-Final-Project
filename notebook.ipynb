{
 "cells": [
  {
   "cell_type": "markdown",
   "metadata": {},
   "source": [
    "# EOSC 410 Final Project"
   ]
  },
  {
   "cell_type": "code",
   "execution_count": 1,
   "metadata": {},
   "outputs": [],
   "source": [
    "import numpy"
   ]
  },
  {
   "cell_type": "markdown",
   "metadata": {},
   "source": [
    "### Thoughts on methodologies\n",
    "Without using watershed data:\n",
    "* Can use multiple linear regression as a simple baseline model. This will be used to benchmark the performance of more complex models.\n",
    "* Neural network ensemble: train multiple neural networks with different hidden layer sizes and parameters\n",
    "* CNN: use convolutional neural networks to capture spatial information\n",
    "\n",
    "Using watershed data:\n",
    "* Can interpolate the remote sensing data to the watershed boundaries and train a different model for each watershed.\n",
    "* Can train a linear regression model and neural network ensemble for each watershed.\n",
    "* Can also just use precipitation data and identify the amount of water that flows into each watershed per day and use a time series of just the precipitation data to predict the streamflow for each station."
   ]
  },
  {
   "cell_type": "markdown",
   "metadata": {},
   "source": [
    "### Thoughts on data preprocessing and data input\n",
    "* Streamflow data may have missing data points. We can use interpolation to fill these in.\n",
    "* Output would be the next day's streamflow for each station\n",
    "* Start with the past 365 days of input data\n",
    "* "
   ]
  }
 ],
 "metadata": {
  "kernelspec": {
   "display_name": "Python 3",
   "language": "python",
   "name": "python3"
  },
  "language_info": {
   "codemirror_mode": {
    "name": "ipython",
    "version": 3
   },
   "file_extension": ".py",
   "mimetype": "text/x-python",
   "name": "python",
   "nbconvert_exporter": "python",
   "pygments_lexer": "ipython3",
   "version": "3.10.11"
  }
 },
 "nbformat": 4,
 "nbformat_minor": 2
}
